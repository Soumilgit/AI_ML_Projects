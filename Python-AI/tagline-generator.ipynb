{
 "cells": [
  {
   "cell_type": "code",
   "execution_count": null,
   "id": "a0950e24-b7f9-4065-bbe3-c373bffec034",
   "metadata": {
    "tags": []
   },
   "outputs": [],
   "source": [
    "!pip install --upgrade google-cloud-aiplatform\n"
   ]
  },
  {
   "cell_type": "code",
   "execution_count": null,
   "id": "ed8db53f-c04a-4555-af9a-ce12e7058610",
   "metadata": {
    "tags": []
   },
   "outputs": [],
   "source": [
    "from vertexai.preview.generative_models import GenerativeModel\n",
    "\n",
    "gear_model = GenerativeModel(\"gemini-1.5-pro\")\n",
    "\n",
    "product_prompt = \"\"\"\n",
    "CoolPokes is collaborating with an outdoor sports gear retailer to launch a new product line that encourages young people to explore nature. Help them create unique and catchy taglines for these products.\n",
    "\n",
    "input: Create a tagline for a rugged jacket that evokes a sense of activity. Think of minimalist design styles.  \n",
    "output: Ready for Any trek: A Backpack That Prepares You for a adventure.\n",
    "\n",
    "input: Now, specifically include the keyword 'nature' in the tagline.  \n",
    "output:\n",
    "\"\"\"\n",
    "\n",
    "tagline_responses = gear_model.generate_content(\n",
    "    product_prompt,\n",
    "    generation_config={\n",
    "        \"temperature\": 0.8,  \n",
    "        \"max_output_tokens\": 150, \n",
    "        \"top_p\": 0.95, \n",
    "        \"top_k\": 50,  \n",
    "    },\n",
    "    stream=True\n",
    ")\n",
    "\n",
    "\n",
    "for tagline in tagline_responses:\n",
    "    print(tagline.text)"
   ]
  },
  {
   "cell_type": "code",
   "execution_count": null,
   "id": "8de96b8f-1cd8-454e-b823-88417d952897",
   "metadata": {},
   "outputs": [],
   "source": []
  }
 ],
 "metadata": {
  "environment": {
   "kernel": "python3",
   "name": "tf2-cpu.2-15.m120",
   "type": "gcloud",
   "uri": "us-docker.pkg.dev/deeplearning-platform-release/gcr.io/tf2-cpu.2-15:m120"
  },
  "kernelspec": {
   "display_name": "Python 3 (Local)",
   "language": "python",
   "name": "python3"
  },
  "language_info": {
   "codemirror_mode": {
    "name": "ipython",
    "version": 3
   },
   "file_extension": ".py",
   "mimetype": "text/x-python",
   "name": "python",
   "nbconvert_exporter": "python",
   "pygments_lexer": "ipython3",
   "version": "3.10.14"
  }
 },
 "nbformat": 4,
 "nbformat_minor": 5
}
