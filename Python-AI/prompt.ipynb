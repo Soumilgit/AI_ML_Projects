{
 "cells": [
  {
   "cell_type": "code",
   "execution_count": null,
   "id": "886b0e3d-40f1-46ca-893e-6b552e0da789",
   "metadata": {
    "tags": []
   },
   "outputs": [],
   "source": [
    "!pip3 install --upgrade --user google-cloud-aiplatform"
   ]
  },
  {
   "cell_type": "code",
   "execution_count": null,
   "id": "0236992b-fd52-4c14-8aa3-879325b8a9d4",
   "metadata": {
    "tags": []
   },
   "outputs": [],
   "source": [
    "import IPython\n",
    "import subprocess\n",
    "import os\n",
    "\n",
    "app = IPython.Application.instance()\n",
    "app.kernel.do_shutdown(True)"
   ]
  },
  {
   "cell_type": "code",
   "execution_count": null,
   "id": "a44251ab-73ee-4361-8385-ac17ca0764ab",
   "metadata": {
    "tags": []
   },
   "outputs": [],
   "source": [
    "project_id_command = !gcloud config get project\n",
    "project_id = project_id_command[0]\n",
    "\n",
    "\n",
    "region_output = subprocess.check_output([\"gcloud\", \"config\", \"get-value\", \"compute/region\"])\n",
    "region = region_output.decode(\"utf-8\").strip()\n",
    "\n",
    "\n",
    "location = region\n",
    "os.environ[\"PROJECT_ID\"] = project_id\n",
    "os.environ[\"LOCATION\"] = location\n",
    "os.environ[\"API_ENDPOINT\"] = f\"{location}-aiplatform.googleapis.com\"\n",
    "\n",
    "\n",
    "print(f\"Project ID: {project_id}\")\n",
    "print(f\"Location: {location}\")"
   ]
  },
  {
   "cell_type": "code",
   "execution_count": null,
   "id": "245a90b1-8a84-4260-aed8-34c42cc44a56",
   "metadata": {
    "tags": []
   },
   "outputs": [],
   "source": [
    "model_id = \"gemini-pro\"\n",
    "\n",
    "curl_command = f'''\n",
    "curl -X POST \\\n",
    "  -H \"Authorization: Bearer $(gcloud auth print-access-token)\" \\\n",
    "  -H \"Content-Type: application/json\" \\\n",
    "  https://${{API_ENDPOINT}}/v1/projects/${{PROJECT_ID}}/locations/${{LOCATION}}/publishers/google/models/${{model_id}}:streamGenerateContent \\\n",
    "  -d '{\n",
    "    \"contents\": {\n",
    "      \"role\": \"USER\", \n",
    "      \"parts\": { \n",
    "        \"text\": \"I am a professional chef specializing in low-sodium meals for customers with food allergies. My kitchen has ahi tuna, fresh ginger, and edamame. I need meal recommendations that do not include peanuts or any related ingredients. The customer prefers red wine. Please include recipe titles, preparation instructions, time to prepare, wine pairing, calories, and nutritional facts for each suggestion.\"\n",
    "      }\n",
    "    }\n",
    "  }'\n",
    "'''\n",
    "\n",
    "os.system(curl_command)"
   ]
  }
 ],
 "metadata": {
  "environment": {
   "kernel": "python3",
   "name": "tf2-cpu.2-15.m120",
   "type": "gcloud",
   "uri": "us-docker.pkg.dev/deeplearning-platform-release/gcr.io/tf2-cpu.2-15:m120"
  },
  "kernelspec": {
   "display_name": "Python 3 (Local)",
   "language": "python",
   "name": "python3"
  },
  "language_info": {
   "codemirror_mode": {
    "name": "ipython",
    "version": 3
   },
   "file_extension": ".py",
   "mimetype": "text/x-python",
   "name": "python",
   "nbconvert_exporter": "python",
   "pygments_lexer": "ipython3",
   "version": "3.10.14"
  }
 },
 "nbformat": 4,
 "nbformat_minor": 5
}
