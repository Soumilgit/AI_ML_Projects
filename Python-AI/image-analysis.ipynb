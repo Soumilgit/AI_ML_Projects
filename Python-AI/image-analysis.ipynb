{
 "cells": [
  {
   "cell_type": "code",
   "execution_count": null,
   "id": "676e1133-1cf4-43aa-bff8-2120113583f4",
   "metadata": {},
   "outputs": [],
   "source": [
    "!pip install --upgrade google-cloud-aiplatform"
   ]
  },
  {
   "cell_type": "code",
   "execution_count": null,
   "id": "f13a7dab-3af8-4a4e-b0a3-845268dfe1db",
   "metadata": {},
   "outputs": [],
   "source": [
    "import base64\n",
    "import vertexai\n",
    "from vertexai.generative_models import GenerativeModel, Part, SafetySetting\n",
    "\n",
    "def create_ai_content():\n",
    "    vertexai.init(project=\"REPLACE_PROJECT_ID\", location=\"us-central1\")\n",
    "    ai_model = GenerativeModel(\"gemini-1.5-pro-002\")\n",
    "    gen_config = {\n",
    "        \"max_output_tokens\": 500,\n",
    "        \"temperature\": 0.7,\n",
    "        \"top_p\": 0.90,\n",
    "    }\n",
    "    safety_options = [\n",
    "        SafetySetting(\n",
    "            category=SafetySetting.HarmCategory.HARM_CATEGORY_HATE_SPEECH,\n",
    "            threshold=SafetySetting.HarmBlockThreshold.OFF\n",
    "        ),\n",
    "        SafetySetting(\n",
    "            category=SafetySetting.HarmCategory.HARM_CATEGORY_DANGEROUS_CONTENT,\n",
    "            threshold=SafetySetting.HarmBlockThreshold.OFF\n",
    "        ),\n",
    "        SafetySetting(\n",
    "            category=SafetySetting.HarmCategory.HARM_CATEGORY_SEXUALLY_EXPLICIT,\n",
    "            threshold=SafetySetting.HarmBlockThreshold.OFF\n",
    "        ),\n",
    "        SafetySetting(\n",
    "            category=SafetySetting.HarmCategory.HARM_CATEGORY_HARASSMENT,\n",
    "            threshold=SafetySetting.HarmBlockThreshold.OFF\n",
    "        ),\n",
    "    ]\n",
    "    input_image = Part.from_data(\n",
    "        mime_type=\"image/png\",\n",
    "        data=base64.b64decode(\"\"\"iVBORw0KGgoAAA\"\"\")\n",
    "    )\n",
    "    prompt_text = \"Revise the prompt to generate a response under 10 words.\"\n",
    "    results = ai_model.generate_content(\n",
    "        [input_image, prompt_text],\n",
    "        generation_config=gen_config,\n",
    "        safety_settings=safety_options,\n",
    "        stream=True,\n",
    "    )\n",
    "    for result in results:\n",
    "        print(\"Generated Output:\", result.text, end=\"\")\n",
    "\n",
    "create_ai_content()"
   ]
  }
 ],
 "metadata": {
  "environment": {
   "kernel": "python3",
   "name": "tf2-cpu.2-17.m125",
   "type": "gcloud",
   "uri": "us-docker.pkg.dev/deeplearning-platform-release/gcr.io/tf2-cpu.2-17:m125"
  },
  "kernelspec": {
   "display_name": "Python 3 (Local)",
   "language": "python",
   "name": "python3"
  },
  "language_info": {
   "codemirror_mode": {
    "name": "ipython",
    "version": 3
   },
   "file_extension": ".py",
   "mimetype": "text/x-python",
   "name": "python",
   "nbconvert_exporter": "python",
   "pygments_lexer": "ipython3",
   "version": "3.10.15"
  }
 },
 "nbformat": 4,
 "nbformat_minor": 5
}
